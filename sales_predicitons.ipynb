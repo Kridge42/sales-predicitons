{
  "nbformat": 4,
  "nbformat_minor": 0,
  "metadata": {
    "colab": {
      "provenance": [],
      "authorship_tag": "ABX9TyNM7/xcLTJOAo90gmy5rusf",
      "include_colab_link": true
    },
    "kernelspec": {
      "name": "python3",
      "display_name": "Python 3"
    },
    "language_info": {
      "name": "python"
    }
  },
  "cells": [
    {
      "cell_type": "markdown",
      "metadata": {
        "id": "view-in-github",
        "colab_type": "text"
      },
      "source": [
        "<a href=\"https://colab.research.google.com/github/Kridge42/sales-predicitons/blob/main/sales_predicitons.ipynb\" target=\"_parent\"><img src=\"https://colab.research.google.com/assets/colab-badge.svg\" alt=\"Open In Colab\"/></a>"
      ]
    },
    {
      "cell_type": "markdown",
      "source": [
        "#Project 1 - Part 1\n",
        "\n",
        "###Kevin Ridge"
      ],
      "metadata": {
        "id": "o8Vjxn9Spl_9"
      }
    },
    {
      "cell_type": "code",
      "execution_count": null,
      "metadata": {
        "id": "1_hwd7gVpchW"
      },
      "outputs": [],
      "source": []
    },
    {
      "cell_type": "markdown",
      "source": [
        "#Loading Data"
      ],
      "metadata": {
        "id": "MqMg2OWPqMDe"
      }
    },
    {
      "cell_type": "code",
      "source": [],
      "metadata": {
        "id": "0Qp8VrJuqP3V"
      },
      "execution_count": null,
      "outputs": []
    },
    {
      "cell_type": "markdown",
      "source": [
        "#Data Cleaning"
      ],
      "metadata": {
        "id": "EIOwLzdiqQMv"
      }
    },
    {
      "cell_type": "code",
      "source": [],
      "metadata": {
        "id": "GYbJrPhHqVCS"
      },
      "execution_count": null,
      "outputs": []
    },
    {
      "cell_type": "markdown",
      "source": [
        "#Exploratory Visuals"
      ],
      "metadata": {
        "id": "rFDsGwAIqVUc"
      }
    },
    {
      "cell_type": "code",
      "source": [],
      "metadata": {
        "id": "uChASMERqaIr"
      },
      "execution_count": null,
      "outputs": []
    },
    {
      "cell_type": "markdown",
      "source": [
        "#Explanatory Visuals"
      ],
      "metadata": {
        "id": "qHh9D_kNqcdB"
      }
    },
    {
      "cell_type": "code",
      "source": [],
      "metadata": {
        "id": "x0WJERq2qfaI"
      },
      "execution_count": null,
      "outputs": []
    }
  ]
}